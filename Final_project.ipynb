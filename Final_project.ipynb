{
  "cells": [
    {
      "cell_type": "markdown",
      "metadata": {
        "colab_type": "text",
        "id": "view-in-github"
      },
      "source": [
        "<a href=\"https://colab.research.google.com/github/smnststn/Fruits_vegetables/blob/main/Final_project.ipynb\" target=\"_parent\"><img src=\"https://colab.research.google.com/assets/colab-badge.svg\" alt=\"Open In Colab\"/></a>"
      ]
    },
    {
      "cell_type": "code",
      "execution_count": 1,
      "metadata": {
        "id": "c3vcnPgtYJF_"
      },
      "outputs": [
        {
          "name": "stderr",
          "output_type": "stream",
          "text": [
            "c:\\Users\\CO2\\Desktop\\Final project\\Fruits_vegetables\\.venv\\Lib\\site-packages\\tqdm\\auto.py:21: TqdmWarning: IProgress not found. Please update jupyter and ipywidgets. See https://ipywidgets.readthedocs.io/en/stable/user_install.html\n",
            "  from .autonotebook import tqdm as notebook_tqdm\n"
          ]
        }
      ],
      "source": [
        "import kagglehub\n",
        "import os\n",
        "from PIL import Image\n",
        "import numpy as np\n",
        "import pandas as pd\n",
        "from matplotlib import pyplot as plt\n",
        "\n",
        "from sklearn.model_selection import train_test_split\n",
        "from tensorflow.keras.utils import to_categorical\n",
        "\n",
        "from tensorflow.keras.models import Sequential\n",
        "from tensorflow.keras.layers import (\n",
        "    Conv2D,\n",
        "    MaxPooling2D,\n",
        "    Flatten,\n",
        "    Dense,\n",
        "    Input,\n",
        "    Dropout\n",
        ")\n",
        "\n",
        "from keras.callbacks import EarlyStopping, ModelCheckpoint\n",
        "\n",
        "from keras.applications import MobileNetV3Large\n",
        "from keras.layers import GlobalAveragePooling2D\n",
        "from keras.models import Model"
      ]
    },
    {
      "cell_type": "code",
      "execution_count": 55,
      "metadata": {
        "id": "c6C1U4SGYVCv"
      },
      "outputs": [],
      "source": [
        "def plot_history(history):\n",
        "  \"\"\"\n",
        "  Funkce na vykreslení dat z objectu history -> vrací ho metoda fit keras modelu\n",
        "  \"\"\"\n",
        "  # plot the Loss curve(s)\n",
        "  plt.figure(figsize=[8,6])\n",
        "\n",
        "  plt.plot(history.history['loss'],'r',linewidth=3.0)\n",
        "  plt.plot(history.history['val_loss'],'b',linewidth=3.0)\n",
        "\n",
        "  plt.legend(['Training loss', 'Validation Loss'],fontsize=18)\n",
        "  plt.xlabel('Epochs ',fontsize=16)\n",
        "  plt.ylabel('Loss',fontsize=16)\n",
        "  plt.title('Loss Curves',fontsize=16)\n",
        "  plt.show()\n",
        "\n",
        "  # plot the Accuracy curve(s)\n",
        "  plt.figure(figsize=[8,6])\n",
        "\n",
        "  plt.plot(history.history['accuracy'], 'r', linewidth=3.0)\n",
        "  plt.plot(history.history['val_accuracy'], 'b',linewidth=3.0)\n",
        "\n",
        "  plt.legend(['Training Accuracy', 'Validation Accuracy'],fontsize=18)\n",
        "  plt.xlabel('Epochs ',fontsize=16)\n",
        "  plt.ylabel('Accuracy',fontsize=16)\n",
        "  plt.title('Accuracy Curves',fontsize=16)\n",
        "  plt.show()"
      ]
    },
    {
      "cell_type": "code",
      "execution_count": 5,
      "metadata": {},
      "outputs": [
        {
          "name": "stdout",
          "output_type": "stream",
          "text": [
            "Složka 'C:\\Users\\CO2\\Desktop\\Final project\\Fruits_vegetables\\Data' existuje.\n"
          ]
        }
      ],
      "source": [
        "path = \"C:\\\\Users\\\\CO2\\\\Desktop\\\\Final project\\\\Fruits_vegetables\\\\Data\"\n",
        "if os.path.exists(path):\n",
        "    print(f\"Složka '{path}' existuje.\")\n",
        "else:\n",
        "    print(f\"Složka '{path}' neexistuje.\")"
      ]
    },
    {
      "cell_type": "code",
      "execution_count": 57,
      "metadata": {
        "colab": {
          "base_uri": "https://localhost:8080/"
        },
        "id": "SqMsZ9qMYMin",
        "outputId": "369e235f-5286-4d5c-f5bc-01996a1018f6"
      },
      "outputs": [],
      "source": [
        "pass\n",
        "\n",
        "#import kagglehub\n",
        "\n",
        "    # Download latest version\n",
        "    #path = kagglehub.dataset_download(\"kritikseth/fruit-and-vegetable-image-recognition\")\n",
        "\n",
        "    #print(\"Path to dataset files:\", path)"
      ]
    },
    {
      "cell_type": "markdown",
      "metadata": {
        "id": "1ZyxE79G8yQD"
      },
      "source": [
        "**KOMENTÁR Šimon:**\n",
        "\n",
        "* pridal som funkciu load images, v ktorej som využil kód, na ktorom sme\n",
        "pracovali v prvý deň. Túto funkciu použijeme pre každý folder (train/test/validation)\n",
        "* trochu som premenoval niektoré premenné do angličtiny a v komentároch vysvetlil, ten komentár tám môžeme nechať aj pre prehľadnosť k obhajobe\n",
        "* podarilo sa mi nájsť zjednodušenie prevodu grayscale/RGBA na RGB\n",
        "* snažil som sa o prehľadnosť a úspornosť kódu\n",
        "\n",
        "**Otázka na zváženie:**\n",
        "- Chceme mať radšej premenné a názvy funkcií radšej v češtine, napr. namiesto *load_images --> načíst_data*"
      ]
    },
    {
      "cell_type": "code",
      "execution_count": 6,
      "metadata": {},
      "outputs": [],
      "source": [
        "train_dir = os.path.join(path, 'train')\n",
        "validation_dir = os.path.join(path, 'validation')\n",
        "test_dir = os.path.join(path, 'test')"
      ]
    },
    {
      "cell_type": "code",
      "execution_count": 9,
      "metadata": {},
      "outputs": [],
      "source": [
        "def load_images(path, folder, image_width = 224, image_height = 224):\n",
        "  \"\"\"\n",
        "  Function returns  X=images, y=labels,\n",
        "  encoding=labels for each category\n",
        "  \"\"\"\n",
        "\n",
        "  X = []\n",
        "  y = []\n",
        "  encoding = {}\n",
        "\n",
        "  '''\n",
        "  path = path to dataset\n",
        "  folder = train, validation or test\n",
        "  category = vegetable or fruit\n",
        "  filename = name of image\n",
        "\n",
        "  path to image = path + folder + category + filename\n",
        "             e.g. path / train / beetroot / Image_1.jpg\n",
        "  '''\n",
        "\n",
        "  folder_path = os.path.join(path, folder)\n",
        "\n",
        "  # Loop for each category (fruit/vegetable)\n",
        "  for index, category in enumerate(os.listdir(folder_path)): # (folder_path)[0:7] --> only first 7 categories / to be removed\n",
        "\n",
        "    encoding[index] = category\n",
        "    category_path = os.path.join(folder_path, category)\n",
        "    image_list = []\n",
        "\n",
        "    # Loop for each file\n",
        "    for filename in os.listdir(category_path):\n",
        "\n",
        "      # Including all formats\n",
        "      if filename.endswith((\".jpg\",\".png\",\".jpeg\")):\n",
        "        img_path = os.path.join(category_path, filename)\n",
        "        img = Image.open(img_path)\n",
        "\n",
        "        # Converts to RGB (in case image mode is RGBA = with transparent background)\n",
        "        img.convert('RGB')\n",
        "\n",
        "        # Resizes to requested width/height (default 224x224)\n",
        "        img_resized = img.resize((image_width, image_height))\n",
        "        img_array = np.array(img_resized)\n",
        "\n",
        "        if img_array.ndim == 2:  # If grayscale, convert to RGB\n",
        "            img_array = np.stack((img_array,) * 3, axis=-1) # Convert to 3 channels if needed\n",
        "            # Check if the image has 4 channels (RGBA) and convert if necessary\n",
        "        elif img_array.shape[2] == 4:  # If RGBA, convert to RGB\n",
        "            img_array = img_array[:,:,:3] # Removing the alpha channel by selecting only the first 3 (RGB) channels.\n",
        "        image_list.append(img_array)\n",
        "\n",
        "    X += image_list\n",
        "    y += [index] * len(image_list)\n",
        "\n",
        "  return X, y, encoding"
      ]
    },
    {
      "cell_type": "code",
      "execution_count": 10,
      "metadata": {},
      "outputs": [
        {
          "name": "stderr",
          "output_type": "stream",
          "text": [
            "c:\\Users\\CO2\\Desktop\\Final project\\Fruits_vegetables\\.venv\\Lib\\site-packages\\PIL\\Image.py:1045: UserWarning: Palette images with Transparency expressed in bytes should be converted to RGBA images\n",
            "  warnings.warn(\n"
          ]
        }
      ],
      "source": [
        "X_test, y_test, encoding_test = load_images(path, 'test')\n",
        "X_train, y_train, encoding_train = load_images(path, 'train')\n",
        "X_val, y_val, encoding_val = load_images(path, 'validation')"
      ]
    },
    {
      "cell_type": "code",
      "execution_count": 77,
      "metadata": {
        "id": "Pz_KZa7P998Q"
      },
      "outputs": [
        {
          "data": {
            "text/plain": [
              "array([[[241, 142,  90],\n",
              "        [238, 152, 108],\n",
              "        [230, 147, 102],\n",
              "        ...,\n",
              "        [115, 174,  76],\n",
              "        [125, 184,  97],\n",
              "        [154, 187, 127]],\n",
              "\n",
              "       [[234, 125,  61],\n",
              "        [231, 128,  67],\n",
              "        [232, 143,  95],\n",
              "        ...,\n",
              "        [143, 188, 110],\n",
              "        [116, 173,  79],\n",
              "        [148, 171,  98]],\n",
              "\n",
              "       [[236, 139,  85],\n",
              "        [208, 112,  52],\n",
              "        [161,  80,  25],\n",
              "        ...,\n",
              "        [115, 173,  72],\n",
              "        [113, 167,  59],\n",
              "        [130, 172,  54]],\n",
              "\n",
              "       ...,\n",
              "\n",
              "       [[ 64,  37,  15],\n",
              "        [ 48,  24,   6],\n",
              "        [ 54,  32,   9],\n",
              "        ...,\n",
              "        [138, 117,  86],\n",
              "        [ 86,  58,  32],\n",
              "        [149, 111,  87]],\n",
              "\n",
              "       [[156, 127,  73],\n",
              "        [113,  75,  39],\n",
              "        [105,  70,  42],\n",
              "        ...,\n",
              "        [ 94,  75,  66],\n",
              "        [ 72,  43,  32],\n",
              "        [145, 102,  77]],\n",
              "\n",
              "       [[177, 165, 118],\n",
              "        [160, 139,  89],\n",
              "        [142, 107,  69],\n",
              "        ...,\n",
              "        [ 73,  56,  51],\n",
              "        [ 62,  38,  30],\n",
              "        [144, 100,  77]]], dtype=uint8)"
            ]
          },
          "execution_count": 77,
          "metadata": {},
          "output_type": "execute_result"
        }
      ],
      "source": [
        "X_test[20]"
      ]
    },
    {
      "cell_type": "code",
      "execution_count": 78,
      "metadata": {
        "id": "x_NcwpEj-CYO"
      },
      "outputs": [
        {
          "data": {
            "text/plain": [
              "'apple'"
            ]
          },
          "execution_count": 78,
          "metadata": {},
          "output_type": "execute_result"
        }
      ],
      "source": [
        "encoding_test[y_test[0]]"
      ]
    },
    {
      "cell_type": "markdown",
      "metadata": {
        "id": "ah_FJbn9BdwH"
      },
      "source": [
        "**Kontrola, či indexy a priradené kategórie (názvy ovocia/zeleniny) sedia**"
      ]
    },
    {
      "cell_type": "code",
      "execution_count": 33,
      "metadata": {
        "id": "15Kut3PgBOI6"
      },
      "outputs": [
        {
          "name": "stdout",
          "output_type": "stream",
          "text": [
            "Index are consistent\n",
            "Labels for index 0 are consistent\n",
            "Labels for index 1 are consistent\n",
            "Labels for index 2 are consistent\n",
            "Labels for index 3 are consistent\n",
            "Labels for index 4 are consistent\n",
            "Labels for index 5 are consistent\n",
            "Labels for index 6 are consistent\n"
          ]
        }
      ],
      "source": [
        "# Check if indexes are identical across all encodings\n",
        "if set(encoding_test.keys()) != set(encoding_train.keys()) or set(encoding_test.keys()) != set(encoding_val.keys()):\n",
        "  print(\"(!) Inconsistent indexes across encodings\")\n",
        "else: print(\"Index are consistent\")\n",
        "\n",
        "# Check if labels are identical across all encodings.\n",
        "for key in encoding_test.keys():\n",
        "  if encoding_test[key] != encoding_train[key] or encoding_test[key] != encoding_val[key]:\n",
        "    print(f\"(!) Inconsistent label for index {key}: \\n test: {encoding_test[key]},\\n train: {encoding_train[key]},\\n val: {encoding_val[key]}\")\n",
        "  else: print(f\"Labels for index {key} are consistent\")"
      ]
    },
    {
      "cell_type": "code",
      "execution_count": 11,
      "metadata": {},
      "outputs": [],
      "source": [
        "# převést list s numpy arrayi pro každou image na numpy array (tenzor)\n",
        "X_train = np.stack(X_train)\n",
        "X_test = np.stack(X_test)\n",
        "X_val = np.stack(X_val)\n",
        "# převést list y na numpy array\n",
        "y_train = np.array(y_train)\n",
        "y_test = np.array(y_test)\n",
        "y_val = np.array(y_val)"
      ]
    },
    {
      "cell_type": "code",
      "execution_count": 12,
      "metadata": {},
      "outputs": [],
      "source": [
        "# transfer learning viz. níže -> zvolili jsme Mobilnetv3 jako základ\n",
        "# ten vyžaduje hodnoty pixelů v rozmezí od 0-255 -> neškálovat!\n",
        "X_train_not_scaled = X_train.copy()\n",
        "X_test_not_scaled = X_test.copy()\n",
        "X_val_not_scaled = X_val.copy()"
      ]
    },
    {
      "cell_type": "code",
      "execution_count": 13,
      "metadata": {},
      "outputs": [],
      "source": [
        "# škálujeme pro náš vlastní model\n",
        "X_train = X_train / 255\n",
        "X_test = X_test / 255\n",
        "X_val = X_val / 255"
      ]
    },
    {
      "cell_type": "code",
      "execution_count": 14,
      "metadata": {},
      "outputs": [],
      "source": [
        "# one hot encoding y -> musí sedět rozměr s výstupem softmax vrstvy\n",
        "y_train = to_categorical(y_train)\n",
        "y_test = to_categorical(y_test)\n",
        "y_val = to_categorical(y_val)"
      ]
    },
    {
      "cell_type": "code",
      "execution_count": 15,
      "metadata": {},
      "outputs": [],
      "source": [
        "early = EarlyStopping(\n",
        "    # sleduj přesnost u validačních dat\n",
        "    monitor=\"val_accuracy\",\n",
        "    # pokud se nezlepší alespoň o 0.3%\n",
        "    min_delta=0.003,\n",
        "    # za posledních 10 epoch\n",
        "    patience=10,\n",
        "    # tak to vypni, a načti váhy z epochy, kdy byla nejvyšší přesnost na validačních datech\n",
        "    restore_best_weights=True,\n",
        ")\n",
        "\n",
        "save = ModelCheckpoint(\n",
        "    # kam uložit model\n",
        "    filepath=\"best_model.keras\",\n",
        "    # sleduj přesnost u validačních dat\n",
        "    monitor=\"val_accuracy\",\n",
        "    # ulož vždy jen jeden soubor s nejlepší hodnotou metriky\n",
        "    save_best_only=True,\n",
        "    # ulož do jednoho souboru architekturu i váhy\n",
        "    save_weights_only=False,\n",
        "    # po každé epoše\n",
        "    save_freq=\"epoch\"\n",
        ")"
      ]
    },
    {
      "cell_type": "code",
      "execution_count": null,
      "metadata": {},
      "outputs": [],
      "source": [
        "# vytvoříme vlastní model - inspirace VGG16 architektura\n",
        "model = Sequential()\n",
        "# vstup musí sedět na X\n",
        "model.add(Input(shape=X_train.shape[1:]))\n",
        "# blok konvoluce s poolingem\n",
        "model.add(Conv2D(16, (3, 3)))\n",
        "model.add(MaxPooling2D())\n",
        "model.add(Conv2D(32, (3, 3)))\n",
        "model.add(MaxPooling2D())\n",
        "# převést na vektor\n",
        "model.add(Flatten())\n",
        "# regularizace proti overfittingu\n",
        "\n",
        "\n",
        "# výstupní vrstva -> multiclass single label -> softmax\n",
        "model.add(Dense(36, activation=\"softmax\"))\n",
        "\n",
        "# kompilace\n",
        "model.compile(loss=\"categorical_crossentropy\", metrics=[\"accuracy\"])\n",
        "model.summary()"
      ]
    },
    {
      "cell_type": "code",
      "execution_count": null,
      "metadata": {},
      "outputs": [],
      "source": [
        "history = model.fit(X_train, y_train, epochs=1000, validation_data=(X_test, y_test), batch_size=32, callbacks=[early, save])"
      ]
    },
    {
      "cell_type": "code",
      "execution_count": null,
      "metadata": {},
      "outputs": [],
      "source": [
        "plot_history(history)"
      ]
    },
    {
      "cell_type": "code",
      "execution_count": null,
      "metadata": {},
      "outputs": [],
      "source": [
        "from sklearn.metrics import classification_report, confusion_matrix, ConfusionMatrixDisplay"
      ]
    },
    {
      "cell_type": "code",
      "execution_count": null,
      "metadata": {},
      "outputs": [],
      "source": [
        "# Predikce na testovacích datech\n",
        "y_pred = model.predict(X_test)\n",
        "\n",
        "# Převést predikce na labely (indexy kategorií)\n",
        "y_pred = np.argmax(y_pred, axis=1)\n",
        "\n",
        "# Převést one-hot encoded y_test na labely (indexy kategorií)\n",
        "y_test_labels = np.argmax(y_test, axis=1)\n",
        "\n",
        "# Tisk classification reportu\n",
        "print(classification_report(y_test_labels, y_pred, target_names=np.array(list(encoding_test.values()))))"
      ]
    },
    {
      "cell_type": "code",
      "execution_count": null,
      "metadata": {},
      "outputs": [],
      "source": [
        "# Redefine class labels from the encoding dictionary\n",
        "class_labels = list(encoding_test.values())\n",
        "\n",
        "# Assuming you already loaded your test data into X_test_not_scaled and y_test\n",
        "# Get the true labels and predicted labels\n",
        "true_labels = np.argmax(y_test, axis=1)  # Convert one-hot to class indices\n",
        "pred_labels = model.predict(X_test)\n",
        "pred_labels = np.argmax(pred_labels, axis=1) # Convert predictions to class indices\n",
        "\n",
        "# Generate the confusion matrix\n",
        "cm = confusion_matrix(true_labels, pred_labels)\n",
        "disp = ConfusionMatrixDisplay(confusion_matrix=cm, display_labels=class_labels)\n",
        "\n",
        "# Plot the confusion matrix\n",
        "plt.figure(figsize=(12, 12))\n",
        "disp.plot(cmap=plt.cm.Blues, values_format='d', ax=plt.gca())\n",
        "plt.title(\"Confusion Matrix\")\n",
        "plt.xticks(rotation=90)\n",
        "plt.show()"
      ]
    }
  ],
  "metadata": {
    "colab": {
      "include_colab_link": true,
      "provenance": []
    },
    "kernelspec": {
      "display_name": ".venv",
      "language": "python",
      "name": "python3"
    },
    "language_info": {
      "codemirror_mode": {
        "name": "ipython",
        "version": 3
      },
      "file_extension": ".py",
      "mimetype": "text/x-python",
      "name": "python",
      "nbconvert_exporter": "python",
      "pygments_lexer": "ipython3",
      "version": "3.12.6"
    }
  },
  "nbformat": 4,
  "nbformat_minor": 0
}
