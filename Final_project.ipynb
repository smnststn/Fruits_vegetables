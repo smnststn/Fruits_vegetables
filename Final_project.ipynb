{
  "nbformat": 4,
  "nbformat_minor": 0,
  "metadata": {
    "colab": {
      "provenance": [],
      "include_colab_link": true
    },
    "kernelspec": {
      "name": "python3",
      "display_name": "Python 3"
    },
    "language_info": {
      "name": "python"
    }
  },
  "cells": [
    {
      "cell_type": "markdown",
      "metadata": {
        "id": "view-in-github",
        "colab_type": "text"
      },
      "source": [
        "<a href=\"https://colab.research.google.com/github/smnststn/Fruits_vegetables/blob/main/Final_project.ipynb\" target=\"_parent\"><img src=\"https://colab.research.google.com/assets/colab-badge.svg\" alt=\"Open In Colab\"/></a>"
      ]
    },
    {
      "cell_type": "code",
      "execution_count": null,
      "metadata": {
        "id": "c3vcnPgtYJF_"
      },
      "outputs": [],
      "source": [
        "import kagglehub\n",
        "import os\n",
        "from PIL import Image\n",
        "import numpy as np\n",
        "from matplotlib import pyplot as plt\n",
        "\n",
        "from sklearn.model_selection import train_test_split\n",
        "from keras.utils import to_categorical\n",
        "\n",
        "from tensorflow.keras.models import Sequential\n",
        "from tensorflow.keras.layers import (\n",
        "    Conv2D,\n",
        "    MaxPooling2D,\n",
        "    Flatten,\n",
        "    Dense,\n",
        "    Input,\n",
        "    Dropout\n",
        ")\n",
        "\n",
        "from keras.callbacks import EarlyStopping, ModelCheckpoint\n",
        "\n",
        "from keras.applications import MobileNetV3Large\n",
        "from keras.layers import GlobalAveragePooling2D\n",
        "from keras.models import Model"
      ]
    },
    {
      "cell_type": "code",
      "source": [
        "def plot_history(history):\n",
        "  \"\"\"\n",
        "  Funkce na vykreslení dat z objectu history -> vrací ho metoda fit keras modelu\n",
        "  \"\"\"\n",
        "  # plot the Loss curve(s)\n",
        "  plt.figure(figsize=[8,6])\n",
        "\n",
        "  plt.plot(history.history['loss'],'r',linewidth=3.0)\n",
        "  plt.plot(history.history['val_loss'],'b',linewidth=3.0)\n",
        "\n",
        "  plt.legend(['Training loss', 'Validation Loss'],fontsize=18)\n",
        "  plt.xlabel('Epochs ',fontsize=16)\n",
        "  plt.ylabel('Loss',fontsize=16)\n",
        "  plt.title('Loss Curves',fontsize=16)\n",
        "  plt.show()\n",
        "\n",
        "  # plot the Accuracy curve(s)\n",
        "  plt.figure(figsize=[8,6])\n",
        "\n",
        "  plt.plot(history.history['accuracy'], 'r', linewidth=3.0)\n",
        "  plt.plot(history.history['val_accuracy'], 'b',linewidth=3.0)\n",
        "\n",
        "  plt.legend(['Training Accuracy', 'Validation Accuracy'],fontsize=18)\n",
        "  plt.xlabel('Epochs ',fontsize=16)\n",
        "  plt.ylabel('Accuracy',fontsize=16)\n",
        "  plt.title('Accuracy Curves',fontsize=16)\n",
        "  plt.show()"
      ],
      "metadata": {
        "id": "c6C1U4SGYVCv"
      },
      "execution_count": null,
      "outputs": []
    },
    {
      "cell_type": "code",
      "source": [
        "import kagglehub\n",
        "\n",
        "# Download latest version\n",
        "path = kagglehub.dataset_download(\"kritikseth/fruit-and-vegetable-image-recognition\")\n",
        "\n",
        "print(\"Path to dataset files:\", path)"
      ],
      "metadata": {
        "colab": {
          "base_uri": "https://localhost:8080/"
        },
        "id": "SqMsZ9qMYMin",
        "outputId": "369e235f-5286-4d5c-f5bc-01996a1018f6"
      },
      "execution_count": null,
      "outputs": [
        {
          "output_type": "stream",
          "name": "stdout",
          "text": [
            "Downloading from https://www.kaggle.com/api/v1/datasets/download/kritikseth/fruit-and-vegetable-image-recognition?dataset_version_number=8...\n"
          ]
        },
        {
          "output_type": "stream",
          "name": "stderr",
          "text": [
            "100%|██████████| 1.98G/1.98G [00:23<00:00, 89.1MB/s]"
          ]
        },
        {
          "output_type": "stream",
          "name": "stdout",
          "text": [
            "Extracting files...\n"
          ]
        },
        {
          "output_type": "stream",
          "name": "stderr",
          "text": [
            "\n"
          ]
        },
        {
          "output_type": "stream",
          "name": "stdout",
          "text": [
            "Path to dataset files: /root/.cache/kagglehub/datasets/kritikseth/fruit-and-vegetable-image-recognition/versions/8\n"
          ]
        }
      ]
    },
    {
      "cell_type": "markdown",
      "source": [
        "**KOMENTÁR Šimon:**\n",
        "\n",
        "* pridal som funkciu load images, v ktorej som využil kód, na ktorom sme\n",
        "pracovali v prvý deň. Túto funkciu použijeme pre každý folder (train/test/validation)\n",
        "* trochu som premenoval niektoré premenné do angličtiny a v komentároch vysvetlil, ten komentár tám môžeme nechať aj pre prehľadnosť k obhajobe\n",
        "* podarilo sa mi nájsť zjednodušenie prevodu grayscale/RGBA na RGB\n",
        "* snažil som sa o prehľadnosť a úspornosť kódu\n",
        "\n",
        "**Otázka na zváženie:**\n",
        "- Chceme mať radšej premenné a názvy funkcií radšej v češtine, napr. namiesto *load_images --> načíst_data*"
      ],
      "metadata": {
        "id": "1ZyxE79G8yQD"
      }
    },
    {
      "cell_type": "code",
      "source": [
        "def load_images(path, folder, image_width = 224, image_height = 224):\n",
        "  '''Function returns  X=images, y=labels, encoding=labels for each category'''\n",
        "\n",
        "  X = []\n",
        "  y = []\n",
        "  encoding = {}\n",
        "\n",
        "  '''\n",
        "  path = path to dataset\n",
        "  folder = train, validation or test\n",
        "  category = vegetable or fruit\n",
        "  filename = name of image\n",
        "\n",
        "  path to image = path + folder + category + filename\n",
        "             e.g. path / train / beetroot / Image_1.jpg\n",
        "  '''\n",
        "\n",
        "  folder_path = os.path.join(path, folder)\n",
        "\n",
        "  # Loop for each category (fruit/vegetable)\n",
        "  for index, category in enumerate(os.listdir(folder_path)[0:7]):\n",
        "\n",
        "    encoding[index] = category\n",
        "    category_path = os.path.join(folder_path, category)\n",
        "    image_list = []\n",
        "\n",
        "    # Loop for each file\n",
        "    for filename in os.listdir(category_path):\n",
        "\n",
        "      # Including all formats\n",
        "      if filename.endswith((\".jpg\",\".png\",\".jpeg\")):\n",
        "        img_path = os.path.join(category_path, filename)\n",
        "        img = Image.open(img_path)\n",
        "\n",
        "        # Converts to RGB (in case image mode is RGBA = with transparent background)\n",
        "        img.convert('RGB')\n",
        "\n",
        "        # Resizes to requested width/height (default 224x224)\n",
        "        img_resized = img.resize((image_width, image_height))\n",
        "        img_array = np.array(img_resized)\n",
        "        image_list.append(img_array)\n",
        "\n",
        "    X += image_list\n",
        "    y += [index] * len(image_list)\n",
        "\n",
        "  return X, y, encoding"
      ],
      "metadata": {
        "id": "MpLGofCN8rcq"
      },
      "execution_count": null,
      "outputs": []
    },
    {
      "cell_type": "code",
      "source": [
        "X_test, y_test, encoding_test = load_images(path, 'test')\n",
        "X_train, y_train, encoding_train = load_images(path, 'train')\n",
        "X_val, y_val, encoding_val = load_images(path, 'validation')"
      ],
      "metadata": {
        "id": "CF5w8rHC8s1k"
      },
      "execution_count": null,
      "outputs": []
    },
    {
      "cell_type": "code",
      "source": [
        "X_test[0]"
      ],
      "metadata": {
        "id": "Pz_KZa7P998Q"
      },
      "execution_count": null,
      "outputs": []
    },
    {
      "cell_type": "code",
      "source": [
        "encoding_test[y_test[0]]"
      ],
      "metadata": {
        "id": "x_NcwpEj-CYO"
      },
      "execution_count": null,
      "outputs": []
    },
    {
      "cell_type": "markdown",
      "source": [
        "**Kontrola, či indexy a priradené kategórie (názvy ovocia/zeleniny) sedia**"
      ],
      "metadata": {
        "id": "ah_FJbn9BdwH"
      }
    },
    {
      "cell_type": "code",
      "source": [
        "# Check if indexes are identical across all encodings\n",
        "if set(encoding_test.keys()) != set(encoding_train.keys()) or set(encoding_test.keys()) != set(encoding_val.keys()):\n",
        "  print(\"(!) Inconsistent indexes across encodings\")\n",
        "else: print(\"Index are consistent\")\n",
        "\n",
        "# Check if labels are identical across all encodings.\n",
        "for key in encoding_test.keys():\n",
        "  if encoding_test[key] != encoding_train[key] or encoding_test[key] != encoding_val[key]:\n",
        "    print(f\"(!) Inconsistent label for index {key}: \\n test: {encoding_test[key]},\\n train: {encoding_train[key]},\\n val: {encoding_val[key]}\")\n",
        "  else: print(f\"Labels for index {key} are consistent\")"
      ],
      "metadata": {
        "id": "15Kut3PgBOI6"
      },
      "execution_count": null,
      "outputs": []
    },
    {
      "cell_type": "markdown",
      "source": [
        "**toto už je pôvodný nezmenený kód**"
      ],
      "metadata": {
        "id": "FoA8-jg99slb"
      }
    },
    {
      "cell_type": "code",
      "source": [
        "slozky_ovoce_zelenina = os.listdir(path)\n",
        "slozky_ovoce_zelenina"
      ],
      "metadata": {
        "colab": {
          "base_uri": "https://localhost:8080/"
        },
        "id": "f3o7lBeYZSfE",
        "outputId": "937fc135-ca4f-477f-b7a1-b5745b4cfc72"
      },
      "execution_count": null,
      "outputs": [
        {
          "output_type": "execute_result",
          "data": {
            "text/plain": [
              "['test', 'validation', 'train']"
            ]
          },
          "metadata": {},
          "execution_count": 9
        }
      ]
    },
    {
      "cell_type": "code",
      "source": [
        "train_dir = os.path.join(path, 'train')\n",
        "validation_dir = os.path.join(path, 'validation')\n",
        "test_dir = os.path.join(path, 'test')"
      ],
      "metadata": {
        "id": "4aKINWqXfDbn"
      },
      "execution_count": null,
      "outputs": []
    },
    {
      "cell_type": "code",
      "source": [
        "# potřebuji načíst fotky, k fotkám labely a uložit si, jaký label patří k jaké figurce\n",
        "X = []\n",
        "y = []\n",
        "encoding = {}\n",
        "# pro každou složku s ovocem a zeleniou\n",
        "for index, ovoce_zelenina in enumerate(os.listdir(train_dir)):\n",
        "  # uložíme si přiřazení číel k labelům y\n",
        "  encoding[index] = ovoce_zelenina\n",
        "  # složka s fotkami kontrétní ovoce a zeleniny\n",
        "  folder_path = os.path.join(train_dir, ovoce_zelenina)\n",
        "\n",
        "  # sem načteme fotky konkrétní ovoce a zeleniny\n",
        "  image_list = []\n",
        "  # pro každý soubor ze složky\n",
        "  for filename in os.listdir(folder_path):\n",
        "    # pokud se jedná o .jpg\n",
        "    if filename.endswith((\".jpg\",\".png\",\".jpeg\")):\n",
        "        # cesta ke kokrétnímu souboru\n",
        "        img_path = os.path.join(folder_path, filename)\n",
        "        # načti obrázek ze souboru\n",
        "        img = Image.open(img_path)\n",
        "        # Změň rozlišení na 224x224 -> všechny budou mít stejný rozměr\n",
        "        img_resized = img.resize((224, 224))\n",
        "        # převeď na numpy array\n",
        "        img_array = np.array(img_resized)\n",
        "         # Check if the image has 3 channels (RGB)\n",
        "        if img_array.ndim == 2:  # If grayscale, convert to RGB\n",
        "            img_array = np.stack((img_array,) * 3, axis=-1) # Convert to 3 channels if needed\n",
        "            # Check if the image has 4 channels (RGBA) and convert if necessary\n",
        "        elif img_array.shape[2] == 4:  # If RGBA, convert to RGB\n",
        "            img_array = img_array[:,:,:3] # Removing the alpha channel by selecting only the first 3 (RGB) channels.\n",
        "        # přidat do listu k ostatním\n",
        "        image_list.append(img_array)\n",
        "  # do X přidej obrázky z další složky (respektive ovoce a zelenina)\n",
        "  X += image_list\n",
        "  # vytvoříme list s labely (rovnou jako čísla, ať nemusíme pozdějí dělat encoding)\n",
        "  # přiřazení čísel k labelům máme v proměnné 'encoding'\n",
        "  y += [index] * len(image_list)"
      ],
      "metadata": {
        "collapsed": true,
        "id": "pQFSmONwaN5C"
      },
      "execution_count": null,
      "outputs": []
    },
    {
      "cell_type": "code",
      "source": [
        "# převést list s numpy arrayi pro každou figurku na numpy array (tenzor)\n",
        "X = np.stack(X)\n",
        "# převést list y na numpy array\n",
        "y = np.array(y)"
      ],
      "metadata": {
        "id": "mqHv8xASaQEg"
      },
      "execution_count": null,
      "outputs": []
    },
    {
      "cell_type": "code",
      "source": [
        "# transfer learning viz. níže -> zvolili jsme Mobilnetv3 jako základ\n",
        "# ten vyžaduje hodnoty pixelů v rozmezí od 0-255 -> neškálovat!\n",
        "X_not_scaled = X.copy()"
      ],
      "metadata": {
        "id": "kQdH4Woqr74C"
      },
      "execution_count": null,
      "outputs": []
    },
    {
      "cell_type": "code",
      "source": [
        "# škálujeme pro náš vlastní model\n",
        "X = X / 255"
      ],
      "metadata": {
        "id": "Niqe7JPcr9wM"
      },
      "execution_count": null,
      "outputs": []
    },
    {
      "cell_type": "code",
      "source": [
        "# rozdělení, trénink test\n",
        "X_train, X_test, y_train, y_test = train_test_split(\n",
        "    X, y, test_size=0.2, stratify=y, random_state=42)\n",
        "# one hot encoding y -> musí sedět rozměr s výstupem softmax vrstvy\n",
        "y_train = to_categorical(y_train)\n",
        "y_test = to_categorical(y_test)"
      ],
      "metadata": {
        "id": "IvpfJqs-_HAA"
      },
      "execution_count": null,
      "outputs": []
    },
    {
      "cell_type": "code",
      "source": [
        "early = EarlyStopping(\n",
        "    # sleduj přesnost u validačních dat\n",
        "    monitor=\"val_accuracy\",\n",
        "    # pokud se nezlepší alespoň o 0.3%\n",
        "    min_delta=0.003,\n",
        "    # za posledních 10 epoch\n",
        "    patience=10,\n",
        "    # tak to vypni, a načti váhy z epochy, kdy byla nejvyšší přesnost na validačních datech\n",
        "    restore_best_weights=True,\n",
        "    start_from_epoch = 50\n",
        ")\n",
        "\n",
        "save = ModelCheckpoint(\n",
        "    # kam uložit model\n",
        "    filepath=\"best_model.keras\",\n",
        "    # sleduj přesnost u validačních dat\n",
        "    monitor=\"val_accuracy\",\n",
        "    # ulož vždy jen jeden soubor s nejlepší hodnotou metriky\n",
        "    save_best_only=True,\n",
        "    # ulož do jednoho souboru architekturu i váhy\n",
        "    save_weights_only=False,\n",
        "    # po každé epoše\n",
        "    save_freq=\"epoch\"\n",
        ")"
      ],
      "metadata": {
        "id": "ouEjaBxI_HmQ"
      },
      "execution_count": null,
      "outputs": []
    }
  ]
}